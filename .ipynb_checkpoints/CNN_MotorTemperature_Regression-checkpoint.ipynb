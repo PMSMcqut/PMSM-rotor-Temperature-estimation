{
 "cells": [
  {
   "cell_type": "markdown",
   "metadata": {},
   "source": [
    "### The current notebook uses the electric-motor-temperature dataset to predict the rotor temperature of a motor.\n",
    "\n",
    "The dataset and its description is available here:\n",
    "https://www.kaggle.com/wkirgsn/electric-motor-temperature\n",
    "\n",
    "\n",
    "The goal of the project is to efficietly predict the rotor temperature of a permanent magnet synchronous motor (PMSM), as it is usually difficult to measure the rotor temperature. This kind of prediction helps to reduce the amount of equipment that is to be mounted on to the motor to measure the temperature."
   ]
  },
  {
   "cell_type": "code",
   "execution_count": 1,
   "metadata": {},
   "outputs": [],
   "source": [
    "import pandas as pd\n",
    "import numpy as np\n",
    "import matplotlib.pyplot as plt\n",
    "import seaborn as sns\n",
    "\n",
    "import torch\n",
    "import torch.nn as nn\n",
    "import torch.nn.functional as F\n",
    "import torch.optim as optim\n",
    "\n",
    "from sklearn.preprocessing import MinMaxScaler\n",
    "from sklearn.metrics import mean_absolute_error, r2_score\n",
    "\n",
    "torch.manual_seed(2)\n",
    "np.random.seed(2)"
   ]
  },
  {
   "cell_type": "code",
   "execution_count": 2,
   "metadata": {},
   "outputs": [],
   "source": [
    "df = pd.read_csv(\"./data/pmsm_temperature_data.csv\")"
   ]
  },
  {
   "cell_type": "code",
   "execution_count": 3,
   "metadata": {},
   "outputs": [
    {
     "data": {
      "text/html": [
       "<div>\n",
       "<style scoped>\n",
       "    .dataframe tbody tr th:only-of-type {\n",
       "        vertical-align: middle;\n",
       "    }\n",
       "\n",
       "    .dataframe tbody tr th {\n",
       "        vertical-align: top;\n",
       "    }\n",
       "\n",
       "    .dataframe thead th {\n",
       "        text-align: right;\n",
       "    }\n",
       "</style>\n",
       "<table border=\"1\" class=\"dataframe\">\n",
       "  <thead>\n",
       "    <tr style=\"text-align: right;\">\n",
       "      <th></th>\n",
       "      <th>ambient</th>\n",
       "      <th>coolant</th>\n",
       "      <th>u_d</th>\n",
       "      <th>u_q</th>\n",
       "      <th>motor_speed</th>\n",
       "      <th>torque</th>\n",
       "      <th>i_d</th>\n",
       "      <th>i_q</th>\n",
       "      <th>pm</th>\n",
       "      <th>stator_yoke</th>\n",
       "      <th>stator_tooth</th>\n",
       "      <th>stator_winding</th>\n",
       "      <th>profile_id</th>\n",
       "    </tr>\n",
       "  </thead>\n",
       "  <tbody>\n",
       "    <tr>\n",
       "      <th>0</th>\n",
       "      <td>-0.752143</td>\n",
       "      <td>-1.118446</td>\n",
       "      <td>0.327935</td>\n",
       "      <td>-1.297858</td>\n",
       "      <td>-1.222428</td>\n",
       "      <td>-0.250182</td>\n",
       "      <td>1.029572</td>\n",
       "      <td>-0.245860</td>\n",
       "      <td>-2.522071</td>\n",
       "      <td>-1.831422</td>\n",
       "      <td>-2.066143</td>\n",
       "      <td>-2.018033</td>\n",
       "      <td>4</td>\n",
       "    </tr>\n",
       "    <tr>\n",
       "      <th>1</th>\n",
       "      <td>-0.771263</td>\n",
       "      <td>-1.117021</td>\n",
       "      <td>0.329665</td>\n",
       "      <td>-1.297686</td>\n",
       "      <td>-1.222429</td>\n",
       "      <td>-0.249133</td>\n",
       "      <td>1.029509</td>\n",
       "      <td>-0.245832</td>\n",
       "      <td>-2.522418</td>\n",
       "      <td>-1.830969</td>\n",
       "      <td>-2.064859</td>\n",
       "      <td>-2.017631</td>\n",
       "      <td>4</td>\n",
       "    </tr>\n",
       "    <tr>\n",
       "      <th>2</th>\n",
       "      <td>-0.782892</td>\n",
       "      <td>-1.116681</td>\n",
       "      <td>0.332771</td>\n",
       "      <td>-1.301822</td>\n",
       "      <td>-1.222428</td>\n",
       "      <td>-0.249431</td>\n",
       "      <td>1.029448</td>\n",
       "      <td>-0.245818</td>\n",
       "      <td>-2.522673</td>\n",
       "      <td>-1.830400</td>\n",
       "      <td>-2.064073</td>\n",
       "      <td>-2.017343</td>\n",
       "      <td>4</td>\n",
       "    </tr>\n",
       "    <tr>\n",
       "      <th>3</th>\n",
       "      <td>-0.780935</td>\n",
       "      <td>-1.116764</td>\n",
       "      <td>0.333700</td>\n",
       "      <td>-1.301852</td>\n",
       "      <td>-1.222430</td>\n",
       "      <td>-0.248636</td>\n",
       "      <td>1.032845</td>\n",
       "      <td>-0.246955</td>\n",
       "      <td>-2.521639</td>\n",
       "      <td>-1.830333</td>\n",
       "      <td>-2.063137</td>\n",
       "      <td>-2.017632</td>\n",
       "      <td>4</td>\n",
       "    </tr>\n",
       "    <tr>\n",
       "      <th>4</th>\n",
       "      <td>-0.774043</td>\n",
       "      <td>-1.116775</td>\n",
       "      <td>0.335206</td>\n",
       "      <td>-1.303118</td>\n",
       "      <td>-1.222429</td>\n",
       "      <td>-0.248701</td>\n",
       "      <td>1.031807</td>\n",
       "      <td>-0.246610</td>\n",
       "      <td>-2.521900</td>\n",
       "      <td>-1.830498</td>\n",
       "      <td>-2.062795</td>\n",
       "      <td>-2.018145</td>\n",
       "      <td>4</td>\n",
       "    </tr>\n",
       "  </tbody>\n",
       "</table>\n",
       "</div>"
      ],
      "text/plain": [
       "    ambient   coolant       u_d       u_q  motor_speed    torque       i_d  \\\n",
       "0 -0.752143 -1.118446  0.327935 -1.297858    -1.222428 -0.250182  1.029572   \n",
       "1 -0.771263 -1.117021  0.329665 -1.297686    -1.222429 -0.249133  1.029509   \n",
       "2 -0.782892 -1.116681  0.332771 -1.301822    -1.222428 -0.249431  1.029448   \n",
       "3 -0.780935 -1.116764  0.333700 -1.301852    -1.222430 -0.248636  1.032845   \n",
       "4 -0.774043 -1.116775  0.335206 -1.303118    -1.222429 -0.248701  1.031807   \n",
       "\n",
       "        i_q        pm  stator_yoke  stator_tooth  stator_winding  profile_id  \n",
       "0 -0.245860 -2.522071    -1.831422     -2.066143       -2.018033           4  \n",
       "1 -0.245832 -2.522418    -1.830969     -2.064859       -2.017631           4  \n",
       "2 -0.245818 -2.522673    -1.830400     -2.064073       -2.017343           4  \n",
       "3 -0.246955 -2.521639    -1.830333     -2.063137       -2.017632           4  \n",
       "4 -0.246610 -2.521900    -1.830498     -2.062795       -2.018145           4  "
      ]
     },
     "execution_count": 3,
     "metadata": {},
     "output_type": "execute_result"
    }
   ],
   "source": [
    "df.head()"
   ]
  },
  {
   "cell_type": "markdown",
   "metadata": {},
   "source": [
    "##### As explained in the description the profile_id column in the data set corresponds to different measurement sessions. The most interesting target features given in description are rotor temperature('pm), stator temperatures('stator_*) and torque. \n",
    "##### All the other features are considered to be inputs features"
   ]
  },
  {
   "cell_type": "code",
   "execution_count": 4,
   "metadata": {},
   "outputs": [],
   "source": [
    "col_list = df.columns.tolist()\n",
    "profile_id = ['profile_id']\n",
    "target_list = ['pm', 'torque', 'stator_yoke', 'stator_tooth', 'stator_winding']\n",
    "feature_list = [col for col in col_list if col not in target_list and col not in profile_id]"
   ]
  },
  {
   "cell_type": "code",
   "execution_count": 5,
   "metadata": {},
   "outputs": [
    {
     "name": "stdout",
     "output_type": "stream",
     "text": [
      "<class 'pandas.core.frame.DataFrame'>\n",
      "RangeIndex: 998070 entries, 0 to 998069\n",
      "Data columns (total 13 columns):\n",
      "ambient           998070 non-null float64\n",
      "coolant           998070 non-null float64\n",
      "u_d               998070 non-null float64\n",
      "u_q               998070 non-null float64\n",
      "motor_speed       998070 non-null float64\n",
      "torque            998070 non-null float64\n",
      "i_d               998070 non-null float64\n",
      "i_q               998070 non-null float64\n",
      "pm                998070 non-null float64\n",
      "stator_yoke       998070 non-null float64\n",
      "stator_tooth      998070 non-null float64\n",
      "stator_winding    998070 non-null float64\n",
      "profile_id        998070 non-null int64\n",
      "dtypes: float64(12), int64(1)\n",
      "memory usage: 99.0 MB\n"
     ]
    }
   ],
   "source": [
    "df.info()"
   ]
  },
  {
   "cell_type": "markdown",
   "metadata": {},
   "source": [
    "##### As profile id just indicates which measurement session the data belongs to, it can be treated as categorical variable, and also to make select data that is relevant to the session"
   ]
  },
  {
   "cell_type": "code",
   "execution_count": 6,
   "metadata": {
    "scrolled": true
   },
   "outputs": [
    {
     "data": {
      "text/plain": [
       "[4, 6, 10, 11, 20, ..., 78, 79, 80, 81, 72]\n",
       "Length: 52\n",
       "Categories (52, int64): [4, 6, 10, 11, ..., 79, 80, 81, 72]"
      ]
     },
     "execution_count": 6,
     "metadata": {},
     "output_type": "execute_result"
    }
   ],
   "source": [
    "df['profile_id'] = df.profile_id.astype('category', inplace=True)\n",
    "df.profile_id.unique()"
   ]
  },
  {
   "cell_type": "markdown",
   "metadata": {},
   "source": [
    "### Since all the variables/features are measured over time and are time dependant. The later analysis is done assuming the data to be time series data.\n",
    "\n",
    "#### For this reason, the data is split into number of time sequences. The target value for a given sequence will be the value which is just after a given sequence."
   ]
  },
  {
   "cell_type": "code",
   "execution_count": 7,
   "metadata": {},
   "outputs": [],
   "source": [
    "def build_sequences(features_df, target_df, sequence_length = 10):\n",
    "    \"\"\"Builds sequences from data and converts them into pytorch tensors\n",
    "        sequence_length - represents the number of samples to be considered in a sequence\n",
    "    \"\"\"\n",
    "    data_ = []\n",
    "    target_ = []\n",
    "    \n",
    "    for i in range(int(features_df.shape[0]/sequence_length)):\n",
    "        \n",
    "        data = torch.from_numpy(features_df.iloc[i:i+sequence_length].values.T)\n",
    "        target = torch.from_numpy(target_df.iloc[i+sequence_length+1].values.T)\n",
    "        \n",
    "        data_.append(data)\n",
    "        target_.append(target)\n",
    "        \n",
    "    data = torch.stack(data_)\n",
    "    target = torch.stack(target_)\n",
    "    \n",
    "    \n",
    "    return data, target"
   ]
  },
  {
   "cell_type": "code",
   "execution_count": 8,
   "metadata": {
    "scrolled": true
   },
   "outputs": [
    {
     "name": "stdout",
     "output_type": "stream",
     "text": [
      "[4, 6, 10, 11, 20, 27, 29, 30, 31, 32, 36, 41, 42, 43, 44, 45, 46, 47, 48, 49, 50, 51, 52, 53, 54, 55, 56, 57, 58, 59, 60, 61, 62, 63, 64, 65, 66, 67, 68, 69, 70, 71, 73, 74, 75, 76, 77, 78, 79, 80, 81, 72]\n"
     ]
    }
   ],
   "source": [
    "prof_ids = list(df.profile_id.unique())\n",
    "print(prof_ids)"
   ]
  },
  {
   "cell_type": "markdown",
   "metadata": {},
   "source": [
    "###### Slecting a measurement profile to prepare the data"
   ]
  },
  {
   "cell_type": "code",
   "execution_count": 9,
   "metadata": {},
   "outputs": [],
   "source": [
    "# idx = np.random.randint(len(prof_ids)))\n",
    "\n",
    "# prof_id = prof_ids[idx]\n",
    "# print('Selected profile -',prof_id)\n",
    "\n",
    "### OR ###\n",
    "prof_id = 6\n",
    "\n",
    "curr_df = df[df['profile_id'] == prof_id]\n",
    "\n",
    "curr_df = curr_df.drop('profile_id', axis = 1)\n",
    "columns = curr_df.columns.tolist()"
   ]
  },
  {
   "cell_type": "code",
   "execution_count": 10,
   "metadata": {},
   "outputs": [
    {
     "data": {
      "text/html": [
       "<div>\n",
       "<style scoped>\n",
       "    .dataframe tbody tr th:only-of-type {\n",
       "        vertical-align: middle;\n",
       "    }\n",
       "\n",
       "    .dataframe tbody tr th {\n",
       "        vertical-align: top;\n",
       "    }\n",
       "\n",
       "    .dataframe thead th {\n",
       "        text-align: right;\n",
       "    }\n",
       "</style>\n",
       "<table border=\"1\" class=\"dataframe\">\n",
       "  <thead>\n",
       "    <tr style=\"text-align: right;\">\n",
       "      <th></th>\n",
       "      <th>ambient</th>\n",
       "      <th>coolant</th>\n",
       "      <th>u_d</th>\n",
       "      <th>u_q</th>\n",
       "      <th>motor_speed</th>\n",
       "      <th>torque</th>\n",
       "      <th>i_d</th>\n",
       "      <th>i_q</th>\n",
       "      <th>pm</th>\n",
       "      <th>stator_yoke</th>\n",
       "      <th>stator_tooth</th>\n",
       "      <th>stator_winding</th>\n",
       "    </tr>\n",
       "  </thead>\n",
       "  <tbody>\n",
       "    <tr>\n",
       "      <th>0</th>\n",
       "      <td>0.422350</td>\n",
       "      <td>0.064550</td>\n",
       "      <td>0.495541</td>\n",
       "      <td>0.173390</td>\n",
       "      <td>0.000066</td>\n",
       "      <td>0.605967</td>\n",
       "      <td>0.957416</td>\n",
       "      <td>0.635014</td>\n",
       "      <td>0.000142</td>\n",
       "      <td>0.000600</td>\n",
       "      <td>0.000105</td>\n",
       "      <td>0.000711</td>\n",
       "    </tr>\n",
       "    <tr>\n",
       "      <th>1</th>\n",
       "      <td>0.424296</td>\n",
       "      <td>0.064815</td>\n",
       "      <td>0.495157</td>\n",
       "      <td>0.174028</td>\n",
       "      <td>0.000064</td>\n",
       "      <td>0.610011</td>\n",
       "      <td>0.955582</td>\n",
       "      <td>0.640728</td>\n",
       "      <td>0.000089</td>\n",
       "      <td>0.000826</td>\n",
       "      <td>0.000087</td>\n",
       "      <td>0.000582</td>\n",
       "    </tr>\n",
       "    <tr>\n",
       "      <th>2</th>\n",
       "      <td>0.425627</td>\n",
       "      <td>0.064977</td>\n",
       "      <td>0.494894</td>\n",
       "      <td>0.174470</td>\n",
       "      <td>0.000063</td>\n",
       "      <td>0.612710</td>\n",
       "      <td>0.954268</td>\n",
       "      <td>0.644823</td>\n",
       "      <td>0.000089</td>\n",
       "      <td>0.000758</td>\n",
       "      <td>0.000058</td>\n",
       "      <td>0.000427</td>\n",
       "    </tr>\n",
       "    <tr>\n",
       "      <th>3</th>\n",
       "      <td>0.426669</td>\n",
       "      <td>0.065209</td>\n",
       "      <td>0.494701</td>\n",
       "      <td>0.174815</td>\n",
       "      <td>0.000062</td>\n",
       "      <td>0.614798</td>\n",
       "      <td>0.953327</td>\n",
       "      <td>0.647756</td>\n",
       "      <td>0.000003</td>\n",
       "      <td>0.000342</td>\n",
       "      <td>0.000021</td>\n",
       "      <td>0.000326</td>\n",
       "    </tr>\n",
       "    <tr>\n",
       "      <th>4</th>\n",
       "      <td>0.427242</td>\n",
       "      <td>0.065387</td>\n",
       "      <td>0.494559</td>\n",
       "      <td>0.175044</td>\n",
       "      <td>0.000060</td>\n",
       "      <td>0.616119</td>\n",
       "      <td>0.952652</td>\n",
       "      <td>0.649859</td>\n",
       "      <td>0.000000</td>\n",
       "      <td>0.000086</td>\n",
       "      <td>0.000013</td>\n",
       "      <td>0.000273</td>\n",
       "    </tr>\n",
       "  </tbody>\n",
       "</table>\n",
       "</div>"
      ],
      "text/plain": [
       "    ambient   coolant       u_d       u_q  motor_speed    torque       i_d  \\\n",
       "0  0.422350  0.064550  0.495541  0.173390     0.000066  0.605967  0.957416   \n",
       "1  0.424296  0.064815  0.495157  0.174028     0.000064  0.610011  0.955582   \n",
       "2  0.425627  0.064977  0.494894  0.174470     0.000063  0.612710  0.954268   \n",
       "3  0.426669  0.065209  0.494701  0.174815     0.000062  0.614798  0.953327   \n",
       "4  0.427242  0.065387  0.494559  0.175044     0.000060  0.616119  0.952652   \n",
       "\n",
       "        i_q        pm  stator_yoke  stator_tooth  stator_winding  \n",
       "0  0.635014  0.000142     0.000600      0.000105        0.000711  \n",
       "1  0.640728  0.000089     0.000826      0.000087        0.000582  \n",
       "2  0.644823  0.000089     0.000758      0.000058        0.000427  \n",
       "3  0.647756  0.000003     0.000342      0.000021        0.000326  \n",
       "4  0.649859  0.000000     0.000086      0.000013        0.000273  "
      ]
     },
     "execution_count": 10,
     "metadata": {},
     "output_type": "execute_result"
    }
   ],
   "source": [
    "scaler = MinMaxScaler()\n",
    "\n",
    "curr_df = pd.DataFrame(scaler.fit_transform(curr_df), columns= columns)\n",
    "curr_df.head()"
   ]
  },
  {
   "cell_type": "markdown",
   "metadata": {},
   "source": [
    "### Sequence length has to be selected prior to the model initialization\n",
    "\n",
    "##### As the sampling is done at 2 Hz, the sequence size can be >= 2. But, keeping in view the importance of speed of operation as the values are needed for other operations or control, it should be as small as possible to reduce the delay.\n",
    "\n",
    "##### Also, another point to be noted here is, if the sequence length is higher the prediction error is less. So there must be a trade off between the required error rate and speed (in this case the initial prediction). \n",
    "\n",
    "##### The delay in responce will be only at the beginning and the later predictions will not have the delay if real time operation is considered."
   ]
  },
  {
   "cell_type": "code",
   "execution_count": 11,
   "metadata": {},
   "outputs": [],
   "source": [
    "sequence_length = 5\n",
    "\n",
    "features = curr_df[feature_list]\n",
    "target = curr_df[target_list][['pm']]\n",
    "\n",
    "data, target = build_sequences(features, target, sequence_length=sequence_length)"
   ]
  },
  {
   "cell_type": "code",
   "execution_count": 12,
   "metadata": {},
   "outputs": [
    {
     "data": {
      "text/plain": [
       "torch.Size([8077, 7, 5])"
      ]
     },
     "execution_count": 12,
     "metadata": {},
     "output_type": "execute_result"
    }
   ],
   "source": [
    "data.shape"
   ]
  },
  {
   "cell_type": "markdown",
   "metadata": {},
   "source": [
    "##### Dividing the generated sequences into training and testing set"
   ]
  },
  {
   "cell_type": "code",
   "execution_count": 13,
   "metadata": {},
   "outputs": [],
   "source": [
    "# Test size the percentage of data to be used for testing\n",
    "test_size = 0.05\n",
    "\n",
    "indices = torch.randperm(data.shape[0])\n",
    "\n",
    "train_indices = indices[:int(indices.shape[0] * (1-test_size))]\n",
    "test_indices = indices[int(indices.shape[0] * (1-test_size)):]\n",
    "\n",
    "X_train, y_train = data[train_indices], target[train_indices]\n",
    "X_test, y_test = data[test_indices], target[test_indices]"
   ]
  },
  {
   "cell_type": "markdown",
   "metadata": {},
   "source": [
    "##### A Dataset class is needed for the data inorder to use the dataloader of Pytorch"
   ]
  },
  {
   "cell_type": "code",
   "execution_count": 14,
   "metadata": {},
   "outputs": [],
   "source": [
    "class PMSMDataset(torch.utils.data.dataset.Dataset):\n",
    "    \"\"\"Dataset with Rotor Temperature as Target\"\"\"\n",
    "    def __init__(self, data, target):\n",
    "        \n",
    "        self.data = data\n",
    "        self.target = target\n",
    "        \n",
    "    def __len__(self):\n",
    "        return self.data.shape[0]\n",
    "    \n",
    "    def __getitem__(self, idx):\n",
    "        return self.data[idx].float(), self.target[idx].float()"
   ]
  },
  {
   "cell_type": "code",
   "execution_count": 15,
   "metadata": {},
   "outputs": [],
   "source": [
    "batch_size = 10\n",
    "\n",
    "pm_train_dataset = PMSMDataset(X_train, y_train)\n",
    "pm_train_loader = torch.utils.data.dataloader.DataLoader(pm_train_dataset, batch_size= batch_size)\n",
    "\n",
    "pm_test_dataset = PMSMDataset(X_test, y_test)\n",
    "pm_test_loader = torch.utils.data.dataloader.DataLoader(pm_test_dataset, batch_size= 1)"
   ]
  },
  {
   "cell_type": "markdown",
   "metadata": {},
   "source": [
    "##### The network class"
   ]
  },
  {
   "cell_type": "code",
   "execution_count": 16,
   "metadata": {},
   "outputs": [],
   "source": [
    "class Network(nn.Module):\n",
    "    def __init__(self, sequence_length, n_features):\n",
    "        super(Network, self).__init__()\n",
    "        \n",
    "        self.sequence_length = sequence_length\n",
    "        self.n_features = n_features\n",
    "        \n",
    "        self.features = nn.Sequential(\n",
    "                        nn.Conv1d(n_features, 16, kernel_size=3),\n",
    "                        nn.ReLU(),\n",
    "                        nn.Conv1d(16,32, kernel_size=1))\n",
    "        \n",
    "        self.lin_in_size = self.get_lin_in_size()\n",
    "        \n",
    "        self.predictior = nn.Sequential(\n",
    "                        nn.Linear(self.lin_in_size,30),\n",
    "                        nn.ReLU(),\n",
    "                        nn.Linear(30, 1))\n",
    "        \n",
    "    def forward(self, x):\n",
    "        \n",
    "        x = self.features(x)\n",
    "        x = x.view(-1, self.lin_in_size)\n",
    "        x = self.predictior(x)\n",
    "        return x\n",
    "    \n",
    "    def get_lin_in_size(self):\n",
    "        rand_in = torch.rand(10, self.n_features, self.sequence_length)\n",
    "        rand_out = self.features(rand_in)\n",
    "        return rand_out.shape[-1] * rand_out.shape[-2]\n",
    "        "
   ]
  },
  {
   "cell_type": "markdown",
   "metadata": {},
   "source": [
    "##### Note that the same sequence length used to generate the data should be used to create the network"
   ]
  },
  {
   "cell_type": "code",
   "execution_count": 17,
   "metadata": {},
   "outputs": [],
   "source": [
    "device = 'cuda' if torch.cuda.is_available() else 'cpu'\n",
    "\n",
    "n_features = X_train.shape[-2]\n",
    "net = Network(sequence_length, n_features)\n",
    "net = net.to(device)"
   ]
  },
  {
   "cell_type": "code",
   "execution_count": 18,
   "metadata": {},
   "outputs": [],
   "source": [
    "lr = 0.01\n",
    "\n",
    "criterion = nn.MSELoss()\n",
    "optimizer = optim.Adam(net.parameters(), lr=lr)"
   ]
  },
  {
   "cell_type": "markdown",
   "metadata": {},
   "source": [
    "### Training"
   ]
  },
  {
   "cell_type": "code",
   "execution_count": 19,
   "metadata": {},
   "outputs": [],
   "source": [
    "def test(net, test_loader, criterion):\n",
    "    \n",
    "    net.eval()\n",
    "    losses = []\n",
    "    for i, (data, target) in enumerate(test_loader):\n",
    "        data, target = data.to(device), target.to(device) \n",
    "        out = net(data)\n",
    "        loss = criterion(out, target)\n",
    "        losses.append(loss.item())  \n",
    "    \n",
    "    net.train()\n",
    "    return np.mean(losses)\n",
    "\n",
    "def train(n_epochs, net, train_loader, test_loader, optimizer, criterion, interval = 10):\n",
    "    net.train()\n",
    "    training_losses = []\n",
    "    test_losses = []\n",
    "    \n",
    "    for epoch in range(1,n_epochs+1):\n",
    "        running_loss = 0.0\n",
    "        batch_losses = []\n",
    "        \n",
    "        for i, (data, target) in enumerate(train_loader):\n",
    "            data, target = data.to(device), target.to(device) \n",
    "            \n",
    "            optimizer.zero_grad()\n",
    "            out = net(data)\n",
    "            loss = criterion(out, target)\n",
    "            batch_losses.append(loss.item())\n",
    "            \n",
    "            loss.backward()\n",
    "            optimizer.step()\n",
    "        \n",
    "        training_losses.append(np.mean(batch_losses))\n",
    "        \n",
    "        test_losses.append(test(net, test_loader, criterion))\n",
    "        \n",
    "        if epoch%interval==1:\n",
    "            print(\"Epoch {}, Training loss {:.6f}, Testing loss {:.6f}\".format(epoch, training_losses[-1], test_losses[-1]))\n",
    "    return training_losses, test_losses"
   ]
  },
  {
   "cell_type": "code",
   "execution_count": 20,
   "metadata": {
    "scrolled": false
   },
   "outputs": [
    {
     "name": "stdout",
     "output_type": "stream",
     "text": [
      "Epoch 1, Training loss 0.025563, Testing loss 0.015755\n",
      "Epoch 11, Training loss 0.000594, Testing loss 0.000649\n",
      "Epoch 21, Training loss 0.000817, Testing loss 0.000333\n",
      "Epoch 31, Training loss 0.000702, Testing loss 0.000333\n",
      "Epoch 41, Training loss 0.000625, Testing loss 0.000325\n"
     ]
    }
   ],
   "source": [
    "training_losses, test_losses = train(50, net, pm_train_loader, pm_test_loader, optimizer, criterion)"
   ]
  },
  {
   "cell_type": "code",
   "execution_count": 21,
   "metadata": {},
   "outputs": [
    {
     "data": {
      "image/png": "[encoded data removed]",
      "text/plain": [
       "<Figure size 432x288 with 1 Axes>"
      ]
     },
     "metadata": {
      "needs_background": "light"
     },
     "output_type": "display_data"
    }
   ],
   "source": [
    "plt.plot(training_losses, label='Train')\n",
    "plt.plot(test_losses, label ='Test')\n",
    "plt.title(\"Loss vs Epoch\")\n",
    "plt.xlabel(\"Epoch\")\n",
    "plt.ylabel(\"Loss\")\n",
    "plt.show()"
   ]
  },
  {
   "cell_type": "markdown",
   "metadata": {},
   "source": [
    "### Saving the model"
   ]
  },
  {
   "cell_type": "code",
   "execution_count": 22,
   "metadata": {},
   "outputs": [],
   "source": [
    "torch.save(net.state_dict(), './model_single_measurement.pt')"
   ]
  },
  {
   "cell_type": "markdown",
   "metadata": {},
   "source": [
    "### Testing"
   ]
  },
  {
   "cell_type": "code",
   "execution_count": 26,
   "metadata": {},
   "outputs": [],
   "source": [
    "net = Network(sequence_length,n_features)\n",
    "net.load_state_dict(torch.load('./model_single_measurement.pt'))\n",
    "net = net.to(device)"
   ]
  },
  {
   "cell_type": "code",
   "execution_count": 27,
   "metadata": {
    "scrolled": true
   },
   "outputs": [],
   "source": [
    "def get_predictions(net, loader):\n",
    "    \n",
    "    net.eval()\n",
    "    targets = []\n",
    "    outputs = []\n",
    "    \n",
    "    for _, (data, target) in enumerate(loader):\n",
    "        \n",
    "        data, target = data.to(device), target.to(device)\n",
    "        \n",
    "        out = net(data)\n",
    "\n",
    "        targets.append(target.item())\n",
    "        outputs.append(out.item())\n",
    "    return targets, outputs"
   ]
  },
  {
   "cell_type": "code",
   "execution_count": 28,
   "metadata": {},
   "outputs": [
    {
     "data": {
      "image/png": "[encoded data removed]",
      "text/plain": [
       "<Figure size 360x360 with 1 Axes>"
      ]
     },
     "metadata": {
      "needs_background": "light"
     },
     "output_type": "display_data"
    }
   ],
   "source": [
    "targets, outputs = get_predictions(net, pm_test_loader)\n",
    "\n",
    "plt.figure(figsize=(5,5))\n",
    "plt.scatter(targets, outputs, s=10)\n",
    "plt.xlabel(\"Target\")\n",
    "plt.ylabel(\"Predicted\")\n",
    "plt.title(\"Predicted vs Target\")\n",
    "plt.show()"
   ]
  },
  {
   "cell_type": "code",
   "execution_count": 29,
   "metadata": {},
   "outputs": [
    {
     "name": "stdout",
     "output_type": "stream",
     "text": [
      "R2 Score -  0.9808065058466385\n"
     ]
    }
   ],
   "source": [
    "print(\"R2 Score - \", r2_score(targets, outputs))"
   ]
  },
  {
   "cell_type": "markdown",
   "metadata": {},
   "source": [
    "#### As seen in the plot the predicted value is almost equal to the target value, since the plot is a straight line. R2 Score also confirms this as it is close to 1.\n",
    "\n",
    "#### The predictions are based on one measurement session, the next step is to train a single model on multiple measurement profiles and evaluate the performance.\n"
   ]
  },
  {
   "cell_type": "code",
   "execution_count": 33,
   "metadata": {},
   "outputs": [
    {
     "name": "stdout",
     "output_type": "stream",
     "text": [
      "[4, 6, 10, 11, 20, 27, 29, 30, 31, 32, 36, 41, 42, 43, 44, 45, 46, 47, 48, 49, 50, 51, 52, 53, 54, 55, 56, 57, 58, 59, 60, 61, 62, 63, 64, 65, 66, 67, 68, 69, 70, 71, 73, 74, 75, 76, 77, 78, 79, 80, 81, 72]\n"
     ]
    }
   ],
   "source": [
    "prof_ids = list(df.profile_id.unique())\n",
    "print(prof_ids)"
   ]
  },
  {
   "cell_type": "markdown",
   "metadata": {},
   "source": [
    "Selecting the first 8 measurement profiles. The data frames have to be concatenated before we make sequences."
   ]
  },
  {
   "cell_type": "code",
   "execution_count": 35,
   "metadata": {},
   "outputs": [
    {
     "ename": "AttributeError",
     "evalue": "'Tensor' object has no attribute 'append'",
     "output_type": "error",
     "traceback": [
      "\u001b[1;31m---------------------------------------------------------------------------\u001b[0m",
      "\u001b[1;31mAttributeError\u001b[0m                            Traceback (most recent call last)",
      "\u001b[1;32m<ipython-input-35-0bf6ee9c8a70>\u001b[0m in \u001b[0;36m<module>\u001b[1;34m\u001b[0m\n\u001b[0;32m     16\u001b[0m \u001b[1;33m\u001b[0m\u001b[0m\n\u001b[0;32m     17\u001b[0m     \u001b[0mdata\u001b[0m\u001b[1;33m,\u001b[0m \u001b[0mtarget\u001b[0m \u001b[1;33m=\u001b[0m \u001b[0mbuild_sequences\u001b[0m\u001b[1;33m(\u001b[0m\u001b[0mfeatures\u001b[0m\u001b[1;33m,\u001b[0m \u001b[0mtarget\u001b[0m\u001b[1;33m,\u001b[0m \u001b[0msequence_length\u001b[0m\u001b[1;33m=\u001b[0m\u001b[0msequence_length\u001b[0m\u001b[1;33m)\u001b[0m\u001b[1;33m\u001b[0m\u001b[0m\n\u001b[1;32m---> 18\u001b[1;33m     \u001b[0mdata\u001b[0m\u001b[1;33m.\u001b[0m\u001b[0mappend\u001b[0m\u001b[1;33m(\u001b[0m\u001b[0mdata\u001b[0m\u001b[1;33m)\u001b[0m\u001b[1;33m\u001b[0m\u001b[0m\n\u001b[0m\u001b[0;32m     19\u001b[0m     \u001b[0mtarget\u001b[0m\u001b[1;33m.\u001b[0m\u001b[0mappend\u001b[0m\u001b[1;33m(\u001b[0m\u001b[0mtarget\u001b[0m\u001b[1;33m)\u001b[0m\u001b[1;33m\u001b[0m\u001b[0m\n\u001b[0;32m     20\u001b[0m \u001b[1;33m\u001b[0m\u001b[0m\n",
      "\u001b[1;31mAttributeError\u001b[0m: 'Tensor' object has no attribute 'append'"
     ]
    }
   ],
   "source": [
    "curr_prof_ids = [4, 6, 10, 11, 20, 27, 29, 30]\n",
    "sequence_length = 5\n",
    "\n",
    "data_list = []\n",
    "targets = []\n",
    "for id_ in curr_prof_ids:\n",
    "    curr_df = df[df['profile_id'] == id_]\n",
    "    curr_df = curr_df.drop('profile_id', axis = 1)\n",
    "    columns = curr_df.columns.tolist()\n",
    "    \n",
    "    scaler = MinMaxScaler()\n",
    "    curr_df = pd.DataFrame(scaler.fit_transform(curr_df), columns= columns)\n",
    "\n",
    "    features = curr_df[feature_list]\n",
    "    target = curr_df[target_list][['pm']]\n",
    "\n",
    "    data, target = build_sequences(features, target, sequence_length=sequence_length)   \n",
    "    data.append(data)\n",
    "    target.append(target)\n",
    "\n",
    "data = torch.cat(data)\n",
    "targets = torch.cat(targets)"
   ]
  },
  {
   "cell_type": "code",
   "execution_count": null,
   "metadata": {},
   "outputs": [],
   "source": []
  }
 ],
 "metadata": {
  "kernelspec": {
   "display_name": "Python 3",
   "language": "python",
   "name": "python3"
  },
  "language_info": {
   "codemirror_mode": {
    "name": "ipython",
    "version": 3
   },
   "file_extension": ".py",
   "mimetype": "text/x-python",
   "name": "python",
   "nbconvert_exporter": "python",
   "pygments_lexer": "ipython3",
   "version": "3.7.0"
  }
 },
 "nbformat": 4,
 "nbformat_minor": 2
}
